{
 "cells": [
  {
   "cell_type": "code",
   "execution_count": 18,
   "metadata": {},
   "outputs": [],
   "source": [
    "import sys\n",
    "import os\n",
    "sys.path.append(os.path.abspath('..'))\n",
    "log_path = 'Log\\import_from_sql.txt'\n",
    "from src.pipeline.logging import logger\n",
    "import pandas as pd"
   ]
  },
  {
   "cell_type": "code",
   "execution_count": 20,
   "metadata": {},
   "outputs": [
    {
     "ename": "FileNotFoundError",
     "evalue": "[Errno 2] No such file or directory: 'e:\\\\Neoron\\\\Programming_Practice\\\\Machine_Learning_Project\\\\wine_quality_prediction\\\\Data\\\\Log\\\\import_from_sql.txt'",
     "output_type": "error",
     "traceback": [
      "\u001b[1;31m---------------------------------------------------------------------------\u001b[0m",
      "\u001b[1;31mFileNotFoundError\u001b[0m                         Traceback (most recent call last)",
      "\u001b[1;32me:\\Neoron\\Programming_Practice\\Machine_Learning_Project\\wine_quality_prediction\\Data\\data.ipynb Cell 2\u001b[0m line \u001b[0;36m1\n\u001b[0;32m      <a href='vscode-notebook-cell:/e%3A/Neoron/Programming_Practice/Machine_Learning_Project/wine_quality_prediction/Data/data.ipynb#W4sZmlsZQ%3D%3D?line=3'>4</a>\u001b[0m \u001b[39mtry\u001b[39;00m:\n\u001b[0;32m      <a href='vscode-notebook-cell:/e%3A/Neoron/Programming_Practice/Machine_Learning_Project/wine_quality_prediction/Data/data.ipynb#W4sZmlsZQ%3D%3D?line=4'>5</a>\u001b[0m     conn \u001b[39m=\u001b[39m line\u001b[39m.\u001b[39mconnect(port\u001b[39m=\u001b[39m\u001b[39m'\u001b[39m\u001b[39m3306\u001b[39m\u001b[39m'\u001b[39m,\n\u001b[0;32m      <a href='vscode-notebook-cell:/e%3A/Neoron/Programming_Practice/Machine_Learning_Project/wine_quality_prediction/Data/data.ipynb#W4sZmlsZQ%3D%3D?line=5'>6</a>\u001b[0m                          host\u001b[39m=\u001b[39m\u001b[39m'\u001b[39m\u001b[39m127.0.0.1\u001b[39m\u001b[39m'\u001b[39m,\n\u001b[0;32m      <a href='vscode-notebook-cell:/e%3A/Neoron/Programming_Practice/Machine_Learning_Project/wine_quality_prediction/Data/data.ipynb#W4sZmlsZQ%3D%3D?line=6'>7</a>\u001b[0m                          user \u001b[39m=\u001b[39m\u001b[39m'\u001b[39m\u001b[39mroot\u001b[39m\u001b[39m'\u001b[39m,\n\u001b[0;32m      <a href='vscode-notebook-cell:/e%3A/Neoron/Programming_Practice/Machine_Learning_Project/wine_quality_prediction/Data/data.ipynb#W4sZmlsZQ%3D%3D?line=7'>8</a>\u001b[0m                          password \u001b[39m=\u001b[39m\u001b[39m'\u001b[39m\u001b[39m4317\u001b[39m\u001b[39m'\u001b[39m,\n\u001b[0;32m      <a href='vscode-notebook-cell:/e%3A/Neoron/Programming_Practice/Machine_Learning_Project/wine_quality_prediction/Data/data.ipynb#W4sZmlsZQ%3D%3D?line=8'>9</a>\u001b[0m                          auth_plugin\u001b[39m=\u001b[39m\u001b[39m'\u001b[39m\u001b[39mmysql_native_password\u001b[39m\u001b[39m'\u001b[39m)\n\u001b[1;32m---> <a href='vscode-notebook-cell:/e%3A/Neoron/Programming_Practice/Machine_Learning_Project/wine_quality_prediction/Data/data.ipynb#W4sZmlsZQ%3D%3D?line=9'>10</a>\u001b[0m     logger(log_path,\u001b[39m'\u001b[39;49m\u001b[39mConnection established\u001b[39;49m\u001b[39m'\u001b[39;49m)\n\u001b[0;32m     <a href='vscode-notebook-cell:/e%3A/Neoron/Programming_Practice/Machine_Learning_Project/wine_quality_prediction/Data/data.ipynb#W4sZmlsZQ%3D%3D?line=11'>12</a>\u001b[0m \u001b[39mexcept\u001b[39;00m line\u001b[39m.\u001b[39mError \u001b[39mas\u001b[39;00m e:\n\u001b[0;32m     <a href='vscode-notebook-cell:/e%3A/Neoron/Programming_Practice/Machine_Learning_Project/wine_quality_prediction/Data/data.ipynb#W4sZmlsZQ%3D%3D?line=12'>13</a>\u001b[0m     \u001b[39mprint\u001b[39m(e)\n",
      "File \u001b[1;32me:\\Neoron\\Programming_Practice\\Machine_Learning_Project\\wine_quality_prediction\\src\\pipeline\\logging.py:29\u001b[0m, in \u001b[0;36mlogger\u001b[1;34m(file_name, massage)\u001b[0m\n\u001b[0;32m     28\u001b[0m \u001b[39mdef\u001b[39;00m \u001b[39mlogger\u001b[39m(file_name , massage):\n\u001b[1;32m---> 29\u001b[0m     lg\u001b[39m.\u001b[39;49mbasicConfig(filename\u001b[39m=\u001b[39;49m file_name,\n\u001b[0;32m     30\u001b[0m                level\u001b[39m=\u001b[39;49mlg\u001b[39m.\u001b[39;49mINFO,\u001b[39mformat\u001b[39;49m\u001b[39m=\u001b[39;49m\u001b[39m\"\u001b[39;49m\u001b[39m[\u001b[39;49m\u001b[39m%(asctime)s\u001b[39;49;00m\u001b[39m] \u001b[39;49m\u001b[39m%(lineno)d\u001b[39;49;00m\u001b[39m \u001b[39;49m\u001b[39m%(name)s\u001b[39;49;00m\u001b[39m - \u001b[39;49m\u001b[39m%(levelname)s\u001b[39;49;00m\u001b[39m - \u001b[39;49m\u001b[39m%(message)s\u001b[39;49;00m\u001b[39m\"\u001b[39;49m,filemode\u001b[39m=\u001b[39;49m\u001b[39m'\u001b[39;49m\u001b[39ma+\u001b[39;49m\u001b[39m'\u001b[39;49m)\n\u001b[0;32m     31\u001b[0m     console_log \u001b[39m=\u001b[39m lg\u001b[39m.\u001b[39mStreamHandler()\n\u001b[0;32m     32\u001b[0m     console_log\u001b[39m.\u001b[39msetLevel(lg\u001b[39m.\u001b[39mINFO)\n",
      "File \u001b[1;32mc:\\Program Files\\Python310\\lib\\logging\\__init__.py:2040\u001b[0m, in \u001b[0;36mbasicConfig\u001b[1;34m(**kwargs)\u001b[0m\n\u001b[0;32m   2038\u001b[0m     \u001b[39melse\u001b[39;00m:\n\u001b[0;32m   2039\u001b[0m         encoding \u001b[39m=\u001b[39m io\u001b[39m.\u001b[39mtext_encoding(encoding)\n\u001b[1;32m-> 2040\u001b[0m     h \u001b[39m=\u001b[39m FileHandler(filename, mode,\n\u001b[0;32m   2041\u001b[0m                     encoding\u001b[39m=\u001b[39;49mencoding, errors\u001b[39m=\u001b[39;49merrors)\n\u001b[0;32m   2042\u001b[0m \u001b[39melse\u001b[39;00m:\n\u001b[0;32m   2043\u001b[0m     stream \u001b[39m=\u001b[39m kwargs\u001b[39m.\u001b[39mpop(\u001b[39m\"\u001b[39m\u001b[39mstream\u001b[39m\u001b[39m\"\u001b[39m, \u001b[39mNone\u001b[39;00m)\n",
      "File \u001b[1;32mc:\\Program Files\\Python310\\lib\\logging\\__init__.py:1169\u001b[0m, in \u001b[0;36mFileHandler.__init__\u001b[1;34m(self, filename, mode, encoding, delay, errors)\u001b[0m\n\u001b[0;32m   1167\u001b[0m     \u001b[39mself\u001b[39m\u001b[39m.\u001b[39mstream \u001b[39m=\u001b[39m \u001b[39mNone\u001b[39;00m\n\u001b[0;32m   1168\u001b[0m \u001b[39melse\u001b[39;00m:\n\u001b[1;32m-> 1169\u001b[0m     StreamHandler\u001b[39m.\u001b[39m\u001b[39m__init__\u001b[39m(\u001b[39mself\u001b[39m, \u001b[39mself\u001b[39;49m\u001b[39m.\u001b[39;49m_open())\n",
      "File \u001b[1;32mc:\\Program Files\\Python310\\lib\\logging\\__init__.py:1201\u001b[0m, in \u001b[0;36mFileHandler._open\u001b[1;34m(self)\u001b[0m\n\u001b[0;32m   1196\u001b[0m \u001b[39m\u001b[39m\u001b[39m\"\"\"\u001b[39;00m\n\u001b[0;32m   1197\u001b[0m \u001b[39mOpen the current base file with the (original) mode and encoding.\u001b[39;00m\n\u001b[0;32m   1198\u001b[0m \u001b[39mReturn the resulting stream.\u001b[39;00m\n\u001b[0;32m   1199\u001b[0m \u001b[39m\"\"\"\u001b[39;00m\n\u001b[0;32m   1200\u001b[0m open_func \u001b[39m=\u001b[39m \u001b[39mself\u001b[39m\u001b[39m.\u001b[39m_builtin_open\n\u001b[1;32m-> 1201\u001b[0m \u001b[39mreturn\u001b[39;00m open_func(\u001b[39mself\u001b[39;49m\u001b[39m.\u001b[39;49mbaseFilename, \u001b[39mself\u001b[39;49m\u001b[39m.\u001b[39;49mmode,\n\u001b[0;32m   1202\u001b[0m                  encoding\u001b[39m=\u001b[39;49m\u001b[39mself\u001b[39;49m\u001b[39m.\u001b[39;49mencoding, errors\u001b[39m=\u001b[39;49m\u001b[39mself\u001b[39;49m\u001b[39m.\u001b[39;49merrors)\n",
      "\u001b[1;31mFileNotFoundError\u001b[0m: [Errno 2] No such file or directory: 'e:\\\\Neoron\\\\Programming_Practice\\\\Machine_Learning_Project\\\\wine_quality_prediction\\\\Data\\\\Log\\\\import_from_sql.txt'"
     ]
    }
   ],
   "source": [
    "import mysql.connector as line\n",
    "\n",
    "# connector\n",
    "try:\n",
    "    conn = line.connect(port='3306',\n",
    "                         host='127.0.0.1',\n",
    "                         user ='root',\n",
    "                         password ='4317',\n",
    "                         auth_plugin='mysql_native_password')\n",
    "    logger(log_path,'Connection established')\n",
    "\n",
    "except line.Error as e:\n",
    "    print(e)\n"
   ]
  },
  {
   "cell_type": "code",
   "execution_count": null,
   "metadata": {},
   "outputs": [],
   "source": []
  }
 ],
 "metadata": {
  "kernelspec": {
   "display_name": "Python 3",
   "language": "python",
   "name": "python3"
  },
  "language_info": {
   "codemirror_mode": {
    "name": "ipython",
    "version": 3
   },
   "file_extension": ".py",
   "mimetype": "text/x-python",
   "name": "python",
   "nbconvert_exporter": "python",
   "pygments_lexer": "ipython3",
   "version": "3.10.7"
  }
 },
 "nbformat": 4,
 "nbformat_minor": 2
}
